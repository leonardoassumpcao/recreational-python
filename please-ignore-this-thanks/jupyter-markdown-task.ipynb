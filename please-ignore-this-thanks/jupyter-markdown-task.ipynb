{
 "cells": [
  {
   "cell_type": "markdown",
   "metadata": {},
   "source": [
    "<center>\n",
    "    <img src=\"https://cf-courses-data.s3.us.cloud-object-storage.appdomain.cloud/IBMDeveloperSkillsNetwork-DS0105EN-SkillsNetwork/labs/Module2/images/SN_web_lightmode.png\" width=\"300\" alt=\"cognitiveclass.ai logo\"  />\n",
    "</center>\n"
   ]
  },
  {
   "cell_type": "markdown",
   "metadata": {},
   "source": [
    "#### Add your code below following the instructions given in the course\n"
   ]
  },
  {
   "cell_type": "markdown",
   "metadata": {},
   "source": [
    "# My Jupyter Notebook on IBM Watson Studio"
   ]
  },
  {
   "cell_type": "markdown",
   "metadata": {},
   "source": [
    "**Leonardo Gama Assumpção**\n",
    "\n",
    "Data Scientist & Amateur Chess Player"
   ]
  },
  {
   "cell_type": "markdown",
   "metadata": {},
   "source": [
    "_I am interested in data science because it allows me to combine my love for mathematics and problem-solving with real-world applications, and to make data-driven decisions that can have a positive impact on business and society._"
   ]
  },
  {
   "cell_type": "markdown",
   "metadata": {},
   "source": [
    "### Brief Explanation of a piece of python code you're about to see.\n",
    "The following code is using a for loop to iterate over the range from $0$ to $15$ `(2 ** 2 ** 2)`.\n",
    "For each iteration, it calculates the value of `k` by taking the square of `j` and then floor dividing it by `2**2 = 4`.\n",
    "Then it creates a new line with a string of `k` spaces followed by `\":D\"` (a smiling emoticon) and prints it.\n",
    "The result is a smiley face that starts close to the left border and gets (slowly, and then a little bit faster) to the right as the loop iterates."
   ]
  },
  {
   "cell_type": "code",
   "execution_count": 1,
   "metadata": {},
   "outputs": [
    {
     "name": "stdout",
     "output_type": "stream",
     "text": [
      ":D\n",
      ":D\n",
      " :D\n",
      "  :D\n",
      "    :D\n",
      "      :D\n",
      "         :D\n",
      "            :D\n",
      "                :D\n",
      "                    :D\n",
      "                         :D\n",
      "                              :D\n",
      "                                    :D\n",
      "                                          :D\n",
      "                                                 :D\n",
      "                                                        :D\n"
     ]
    }
   ],
   "source": [
    "# The Parabolic Smiley Faces:\n",
    "for j in range(2 ** 2 ** 2):\n",
    "    k = j**2 // 2 ** 2\n",
    "    print(\" \" * k + \":D\")"
   ]
  },
  {
   "cell_type": "markdown",
   "metadata": {},
   "source": [
    "# Grandma's Apple Pie\n",
    "\n",
    "---\n",
    "\n",
    "\n",
    "## Ingredients:\n",
    "\n",
    "- 3 cups of thinly sliced apples\n",
    "\n",
    "\n",
    "- 1 cup of sugar\n",
    "\n",
    "\n",
    "- 1 pie crust (store-bought or homemade)\n",
    "\n",
    "\n",
    "<hr>\n",
    "\n",
    "\n",
    "## Instructions:\n",
    "\n",
    "1. **Preheat** your oven to 220 degrees C (425 degrees F).\n",
    "\n",
    "\n",
    "2. In a large mixing bowl, **combine** the apples and sugar. **Mix** well.\n",
    "\n",
    "\n",
    "3. **Roll out** the pie crust and **place it** into a 9-inch pie dish.\n",
    "\n",
    "\n",
    "4. **Pour** the apple mixture into the pie crust, **spreading** it evenly.\n",
    "\n",
    "\n",
    "5. **Cover** the pie with another pie crust **or** with a lattice crust if you prefer.\n",
    "\n",
    "\n",
    "6. **Bake** the pie for **45-50 minutes** or until the crust is **golden brown** and the apples are **tender**.\n",
    "\n",
    "\n",
    "7. **Let** the pie cool for at least **15 minutes** before serving.\n",
    "\n",
    "\n",
    "8. **Enjoy!** $\\ddot\\smile$\n",
    "\n",
    "\n",
    "Note: You can add a tsp of cinnamon ~or nutmeg~ for extra flavor.\n",
    "\n",
    "## Nutritional Data Table (Example)\n",
    "**Example of a nutritional data table for one slice of the above:**\n",
    "\n",
    "| Nutrient      | Amount  |\n",
    "|:--------------|--------:|\n",
    "| Calories      | 350     |\n",
    "| Fat           | 20g     |\n",
    "| Cholesterol   | 15mg    |\n",
    "| Sodium        | 200mg   |\n",
    "| Carbohydrates | 40g     |\n",
    "| Fiber         | 2g      |\n",
    "| Sugars        | **25g** |\n",
    "| Protein       | 2g      |\n",
    "\n",
    "## Disclaimer\n",
    "> This is an example and the values may vary depending on the ingredients used and serving size.\n",
    "> \n",
    "> This table is **not an accurate nutritional information** and should not be used as a replacement for a professional nutritional advice."
   ]
  }
 ],
 "metadata": {
  "kernelspec": {
   "display_name": "Python 3 (ipykernel)",
   "language": "python",
   "name": "python3"
  },
  "language_info": {
   "codemirror_mode": {
    "name": "ipython",
    "version": 3
   },
   "file_extension": ".py",
   "mimetype": "text/x-python",
   "name": "python",
   "nbconvert_exporter": "python",
   "pygments_lexer": "ipython3",
   "version": "3.10.7"
  }
 },
 "nbformat": 4,
 "nbformat_minor": 4
}
